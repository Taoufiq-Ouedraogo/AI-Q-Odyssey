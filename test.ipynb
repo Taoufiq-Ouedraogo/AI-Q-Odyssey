{
 "cells": [
  {
   "cell_type": "code",
   "execution_count": 29,
   "metadata": {},
   "outputs": [],
   "source": [
    "page_dico = {\n",
    "    \"Home Page\": {\n",
    "        \"Home Page\": \"main.py\"\n",
    "    },\n",
    "\n",
    "    \"Market Types\": {\n",
    "        \"Basics of Market Types\": \"pages/market_types/mrkt_t_basics.py\",\n",
    "\n",
    "    },\n",
    "\n",
    "    \"Derivatives\": {\n",
    "        \"Basics of Derivatives\": \"pages/derivatives/derivative_basics.py\",\n",
    "        \"Basics of Options\": \"pages/derivatives/options.py\",\n",
    "        \"Option Pricing Methods\": \"pages/derivatives/option_pricing_methods.py\",\n",
    "        \"Option Pricing Tool\": \"pages/derivatives/option_pricing_tool.py\"\n",
    "    }\n",
    "}"
   ]
  },
  {
   "cell_type": "code",
   "execution_count": 32,
   "metadata": {},
   "outputs": [
    {
     "name": "stdout",
     "output_type": "stream",
     "text": [
      "Home Page main.py\n",
      "Basics of Market Types pages/market_types/mrkt_t_basics.py\n",
      "Basics of Derivatives pages/derivatives/derivative_basics.py\n"
     ]
    }
   ],
   "source": [
    "for tab, tab_subtabs in page_dico.items():\n",
    "    main_tab_subtab = list(tab_subtabs.keys())[0]\n",
    "    main_tab_subtab_path = list(tab_subtabs.values())[0]\n",
    "    print(main_tab_subtab, main_tab_subtab_path)"
   ]
  },
  {
   "cell_type": "code",
   "execution_count": 3,
   "metadata": {},
   "outputs": [
    {
     "data": {
      "text/plain": [
       "['Home Page', 'Derivatives']"
      ]
     },
     "execution_count": 3,
     "metadata": {},
     "output_type": "execute_result"
    }
   ],
   "source": [
    "[k for k,v in page_dico.items()]"
   ]
  },
  {
   "cell_type": "code",
   "execution_count": 5,
   "metadata": {},
   "outputs": [
    {
     "ename": "KeyError",
     "evalue": "slice(1, None, None)",
     "output_type": "error",
     "traceback": [
      "\u001b[31m---------------------------------------------------------------------------\u001b[39m",
      "\u001b[31mKeyError\u001b[39m                                  Traceback (most recent call last)",
      "\u001b[36mCell\u001b[39m\u001b[36m \u001b[39m\u001b[32mIn[5]\u001b[39m\u001b[32m, line 1\u001b[39m\n\u001b[32m----> \u001b[39m\u001b[32m1\u001b[39m [a \u001b[38;5;28;01mfor\u001b[39;00m a \u001b[38;5;129;01min\u001b[39;00m \u001b[43mpage_dico\u001b[49m\u001b[43m[\u001b[49m\u001b[32;43m1\u001b[39;49m\u001b[43m:\u001b[49m\u001b[43m]\u001b[49m]\n",
      "\u001b[31mKeyError\u001b[39m: slice(1, None, None)"
     ]
    }
   ],
   "source": [
    "[a for a in page_dico[1:]]"
   ]
  },
  {
   "cell_type": "code",
   "execution_count": 34,
   "metadata": {},
   "outputs": [
    {
     "name": "stdout",
     "output_type": "stream",
     "text": [
      "Python 3.12.4\n"
     ]
    }
   ],
   "source": [
    "!python -V"
   ]
  },
  {
   "cell_type": "code",
   "execution_count": 35,
   "metadata": {},
   "outputs": [
    {
     "name": "stdout",
     "output_type": "stream",
     "text": [
      "Collecting streamlit_navigation_bar\n",
      "  Downloading streamlit_navigation_bar-3.3.0-py3-none-any.whl.metadata (7.3 kB)\n",
      "Requirement already satisfied: streamlit>=1.33.0 in ./.venv/lib/python3.12/site-packages (from streamlit_navigation_bar) (1.43.0)\n",
      "Collecting st-theme>=1.2.3 (from streamlit_navigation_bar)\n",
      "  Downloading st_theme-1.2.3-py3-none-any.whl.metadata (6.9 kB)\n",
      "Requirement already satisfied: altair<6,>=4.0 in ./.venv/lib/python3.12/site-packages (from streamlit>=1.33.0->streamlit_navigation_bar) (5.5.0)\n",
      "Requirement already satisfied: blinker<2,>=1.0.0 in ./.venv/lib/python3.12/site-packages (from streamlit>=1.33.0->streamlit_navigation_bar) (1.9.0)\n",
      "Requirement already satisfied: cachetools<6,>=4.0 in ./.venv/lib/python3.12/site-packages (from streamlit>=1.33.0->streamlit_navigation_bar) (5.5.2)\n",
      "Requirement already satisfied: click<9,>=7.0 in ./.venv/lib/python3.12/site-packages (from streamlit>=1.33.0->streamlit_navigation_bar) (8.1.8)\n",
      "Requirement already satisfied: numpy<3,>=1.23 in ./.venv/lib/python3.12/site-packages (from streamlit>=1.33.0->streamlit_navigation_bar) (2.2.3)\n",
      "Requirement already satisfied: packaging<25,>=20 in ./.venv/lib/python3.12/site-packages (from streamlit>=1.33.0->streamlit_navigation_bar) (24.2)\n",
      "Requirement already satisfied: pandas<3,>=1.4.0 in ./.venv/lib/python3.12/site-packages (from streamlit>=1.33.0->streamlit_navigation_bar) (2.2.3)\n",
      "Requirement already satisfied: pillow<12,>=7.1.0 in ./.venv/lib/python3.12/site-packages (from streamlit>=1.33.0->streamlit_navigation_bar) (11.1.0)\n",
      "Requirement already satisfied: protobuf<6,>=3.20 in ./.venv/lib/python3.12/site-packages (from streamlit>=1.33.0->streamlit_navigation_bar) (5.29.3)\n",
      "Requirement already satisfied: pyarrow>=7.0 in ./.venv/lib/python3.12/site-packages (from streamlit>=1.33.0->streamlit_navigation_bar) (19.0.1)\n",
      "Requirement already satisfied: requests<3,>=2.27 in ./.venv/lib/python3.12/site-packages (from streamlit>=1.33.0->streamlit_navigation_bar) (2.32.3)\n",
      "Requirement already satisfied: tenacity<10,>=8.1.0 in ./.venv/lib/python3.12/site-packages (from streamlit>=1.33.0->streamlit_navigation_bar) (9.0.0)\n",
      "Requirement already satisfied: toml<2,>=0.10.1 in ./.venv/lib/python3.12/site-packages (from streamlit>=1.33.0->streamlit_navigation_bar) (0.10.2)\n",
      "Requirement already satisfied: typing-extensions<5,>=4.4.0 in ./.venv/lib/python3.12/site-packages (from streamlit>=1.33.0->streamlit_navigation_bar) (4.12.2)\n",
      "Requirement already satisfied: gitpython!=3.1.19,<4,>=3.0.7 in ./.venv/lib/python3.12/site-packages (from streamlit>=1.33.0->streamlit_navigation_bar) (3.1.44)\n",
      "Requirement already satisfied: pydeck<1,>=0.8.0b4 in ./.venv/lib/python3.12/site-packages (from streamlit>=1.33.0->streamlit_navigation_bar) (0.9.1)\n",
      "Requirement already satisfied: tornado<7,>=6.0.3 in ./.venv/lib/python3.12/site-packages (from streamlit>=1.33.0->streamlit_navigation_bar) (6.4.2)\n",
      "Requirement already satisfied: jinja2 in ./.venv/lib/python3.12/site-packages (from altair<6,>=4.0->streamlit>=1.33.0->streamlit_navigation_bar) (3.1.6)\n",
      "Requirement already satisfied: jsonschema>=3.0 in ./.venv/lib/python3.12/site-packages (from altair<6,>=4.0->streamlit>=1.33.0->streamlit_navigation_bar) (4.23.0)\n",
      "Requirement already satisfied: narwhals>=1.14.2 in ./.venv/lib/python3.12/site-packages (from altair<6,>=4.0->streamlit>=1.33.0->streamlit_navigation_bar) (1.29.0)\n",
      "Requirement already satisfied: gitdb<5,>=4.0.1 in ./.venv/lib/python3.12/site-packages (from gitpython!=3.1.19,<4,>=3.0.7->streamlit>=1.33.0->streamlit_navigation_bar) (4.0.12)\n",
      "Requirement already satisfied: python-dateutil>=2.8.2 in ./.venv/lib/python3.12/site-packages (from pandas<3,>=1.4.0->streamlit>=1.33.0->streamlit_navigation_bar) (2.9.0.post0)\n",
      "Requirement already satisfied: pytz>=2020.1 in ./.venv/lib/python3.12/site-packages (from pandas<3,>=1.4.0->streamlit>=1.33.0->streamlit_navigation_bar) (2025.1)\n",
      "Requirement already satisfied: tzdata>=2022.7 in ./.venv/lib/python3.12/site-packages (from pandas<3,>=1.4.0->streamlit>=1.33.0->streamlit_navigation_bar) (2025.1)\n",
      "Requirement already satisfied: charset-normalizer<4,>=2 in ./.venv/lib/python3.12/site-packages (from requests<3,>=2.27->streamlit>=1.33.0->streamlit_navigation_bar) (3.4.1)\n",
      "Requirement already satisfied: idna<4,>=2.5 in ./.venv/lib/python3.12/site-packages (from requests<3,>=2.27->streamlit>=1.33.0->streamlit_navigation_bar) (3.10)\n",
      "Requirement already satisfied: urllib3<3,>=1.21.1 in ./.venv/lib/python3.12/site-packages (from requests<3,>=2.27->streamlit>=1.33.0->streamlit_navigation_bar) (2.3.0)\n",
      "Requirement already satisfied: certifi>=2017.4.17 in ./.venv/lib/python3.12/site-packages (from requests<3,>=2.27->streamlit>=1.33.0->streamlit_navigation_bar) (2025.1.31)\n",
      "Requirement already satisfied: smmap<6,>=3.0.1 in ./.venv/lib/python3.12/site-packages (from gitdb<5,>=4.0.1->gitpython!=3.1.19,<4,>=3.0.7->streamlit>=1.33.0->streamlit_navigation_bar) (5.0.2)\n",
      "Requirement already satisfied: MarkupSafe>=2.0 in ./.venv/lib/python3.12/site-packages (from jinja2->altair<6,>=4.0->streamlit>=1.33.0->streamlit_navigation_bar) (3.0.2)\n",
      "Requirement already satisfied: attrs>=22.2.0 in ./.venv/lib/python3.12/site-packages (from jsonschema>=3.0->altair<6,>=4.0->streamlit>=1.33.0->streamlit_navigation_bar) (25.1.0)\n",
      "Requirement already satisfied: jsonschema-specifications>=2023.03.6 in ./.venv/lib/python3.12/site-packages (from jsonschema>=3.0->altair<6,>=4.0->streamlit>=1.33.0->streamlit_navigation_bar) (2024.10.1)\n",
      "Requirement already satisfied: referencing>=0.28.4 in ./.venv/lib/python3.12/site-packages (from jsonschema>=3.0->altair<6,>=4.0->streamlit>=1.33.0->streamlit_navigation_bar) (0.36.2)\n",
      "Requirement already satisfied: rpds-py>=0.7.1 in ./.venv/lib/python3.12/site-packages (from jsonschema>=3.0->altair<6,>=4.0->streamlit>=1.33.0->streamlit_navigation_bar) (0.23.1)\n",
      "Requirement already satisfied: six>=1.5 in ./.venv/lib/python3.12/site-packages (from python-dateutil>=2.8.2->pandas<3,>=1.4.0->streamlit>=1.33.0->streamlit_navigation_bar) (1.17.0)\n",
      "Downloading streamlit_navigation_bar-3.3.0-py3-none-any.whl (84 kB)\n",
      "\u001b[2K   \u001b[90m━━━━━━━━━━━━━━━━━━━━━━━━━━━━━━━━━━━━━━━━\u001b[0m \u001b[32m84.9/84.9 kB\u001b[0m \u001b[31m1.4 MB/s\u001b[0m eta \u001b[36m0:00:00\u001b[0meta \u001b[36m0:00:01\u001b[0m\n",
      "\u001b[?25hDownloading st_theme-1.2.3-py3-none-any.whl (75 kB)\n",
      "\u001b[2K   \u001b[90m━━━━━━━━━━━━━━━━━━━━━━━━━━━━━━━━━━━━━━━━\u001b[0m \u001b[32m75.2/75.2 kB\u001b[0m \u001b[31m2.1 MB/s\u001b[0m eta \u001b[36m0:00:00\u001b[0m\n",
      "\u001b[?25hInstalling collected packages: st-theme, streamlit_navigation_bar\n",
      "Successfully installed st-theme-1.2.3 streamlit_navigation_bar-3.3.0\n",
      "\n",
      "\u001b[1m[\u001b[0m\u001b[34;49mnotice\u001b[0m\u001b[1;39;49m]\u001b[0m\u001b[39;49m A new release of pip is available: \u001b[0m\u001b[31;49m24.0\u001b[0m\u001b[39;49m -> \u001b[0m\u001b[32;49m25.0.1\u001b[0m\n",
      "\u001b[1m[\u001b[0m\u001b[34;49mnotice\u001b[0m\u001b[1;39;49m]\u001b[0m\u001b[39;49m To update, run: \u001b[0m\u001b[32;49mpip install --upgrade pip\u001b[0m\n",
      "Note: you may need to restart the kernel to use updated packages.\n"
     ]
    }
   ],
   "source": [
    "pip install streamlit_navigation_bar"
   ]
  },
  {
   "cell_type": "code",
   "execution_count": 36,
   "metadata": {},
   "outputs": [
    {
     "name": "stdout",
     "output_type": "stream",
     "text": [
      "Requirement already satisfied: streamlit-navigation-bar in ./.venv/lib/python3.12/site-packages (3.3.0)\n",
      "Requirement already satisfied: streamlit>=1.33.0 in ./.venv/lib/python3.12/site-packages (from streamlit-navigation-bar) (1.43.0)\n",
      "Requirement already satisfied: st-theme>=1.2.3 in ./.venv/lib/python3.12/site-packages (from streamlit-navigation-bar) (1.2.3)\n",
      "Requirement already satisfied: altair<6,>=4.0 in ./.venv/lib/python3.12/site-packages (from streamlit>=1.33.0->streamlit-navigation-bar) (5.5.0)\n",
      "Requirement already satisfied: blinker<2,>=1.0.0 in ./.venv/lib/python3.12/site-packages (from streamlit>=1.33.0->streamlit-navigation-bar) (1.9.0)\n",
      "Requirement already satisfied: cachetools<6,>=4.0 in ./.venv/lib/python3.12/site-packages (from streamlit>=1.33.0->streamlit-navigation-bar) (5.5.2)\n",
      "Requirement already satisfied: click<9,>=7.0 in ./.venv/lib/python3.12/site-packages (from streamlit>=1.33.0->streamlit-navigation-bar) (8.1.8)\n",
      "Requirement already satisfied: numpy<3,>=1.23 in ./.venv/lib/python3.12/site-packages (from streamlit>=1.33.0->streamlit-navigation-bar) (2.2.3)\n",
      "Requirement already satisfied: packaging<25,>=20 in ./.venv/lib/python3.12/site-packages (from streamlit>=1.33.0->streamlit-navigation-bar) (24.2)\n",
      "Requirement already satisfied: pandas<3,>=1.4.0 in ./.venv/lib/python3.12/site-packages (from streamlit>=1.33.0->streamlit-navigation-bar) (2.2.3)\n",
      "Requirement already satisfied: pillow<12,>=7.1.0 in ./.venv/lib/python3.12/site-packages (from streamlit>=1.33.0->streamlit-navigation-bar) (11.1.0)\n",
      "Requirement already satisfied: protobuf<6,>=3.20 in ./.venv/lib/python3.12/site-packages (from streamlit>=1.33.0->streamlit-navigation-bar) (5.29.3)\n",
      "Requirement already satisfied: pyarrow>=7.0 in ./.venv/lib/python3.12/site-packages (from streamlit>=1.33.0->streamlit-navigation-bar) (19.0.1)\n",
      "Requirement already satisfied: requests<3,>=2.27 in ./.venv/lib/python3.12/site-packages (from streamlit>=1.33.0->streamlit-navigation-bar) (2.32.3)\n",
      "Requirement already satisfied: tenacity<10,>=8.1.0 in ./.venv/lib/python3.12/site-packages (from streamlit>=1.33.0->streamlit-navigation-bar) (9.0.0)\n",
      "Requirement already satisfied: toml<2,>=0.10.1 in ./.venv/lib/python3.12/site-packages (from streamlit>=1.33.0->streamlit-navigation-bar) (0.10.2)\n",
      "Requirement already satisfied: typing-extensions<5,>=4.4.0 in ./.venv/lib/python3.12/site-packages (from streamlit>=1.33.0->streamlit-navigation-bar) (4.12.2)\n",
      "Requirement already satisfied: gitpython!=3.1.19,<4,>=3.0.7 in ./.venv/lib/python3.12/site-packages (from streamlit>=1.33.0->streamlit-navigation-bar) (3.1.44)\n",
      "Requirement already satisfied: pydeck<1,>=0.8.0b4 in ./.venv/lib/python3.12/site-packages (from streamlit>=1.33.0->streamlit-navigation-bar) (0.9.1)\n",
      "Requirement already satisfied: tornado<7,>=6.0.3 in ./.venv/lib/python3.12/site-packages (from streamlit>=1.33.0->streamlit-navigation-bar) (6.4.2)\n",
      "Requirement already satisfied: jinja2 in ./.venv/lib/python3.12/site-packages (from altair<6,>=4.0->streamlit>=1.33.0->streamlit-navigation-bar) (3.1.6)\n",
      "Requirement already satisfied: jsonschema>=3.0 in ./.venv/lib/python3.12/site-packages (from altair<6,>=4.0->streamlit>=1.33.0->streamlit-navigation-bar) (4.23.0)\n",
      "Requirement already satisfied: narwhals>=1.14.2 in ./.venv/lib/python3.12/site-packages (from altair<6,>=4.0->streamlit>=1.33.0->streamlit-navigation-bar) (1.29.0)\n",
      "Requirement already satisfied: gitdb<5,>=4.0.1 in ./.venv/lib/python3.12/site-packages (from gitpython!=3.1.19,<4,>=3.0.7->streamlit>=1.33.0->streamlit-navigation-bar) (4.0.12)\n",
      "Requirement already satisfied: python-dateutil>=2.8.2 in ./.venv/lib/python3.12/site-packages (from pandas<3,>=1.4.0->streamlit>=1.33.0->streamlit-navigation-bar) (2.9.0.post0)\n",
      "Requirement already satisfied: pytz>=2020.1 in ./.venv/lib/python3.12/site-packages (from pandas<3,>=1.4.0->streamlit>=1.33.0->streamlit-navigation-bar) (2025.1)\n",
      "Requirement already satisfied: tzdata>=2022.7 in ./.venv/lib/python3.12/site-packages (from pandas<3,>=1.4.0->streamlit>=1.33.0->streamlit-navigation-bar) (2025.1)\n",
      "Requirement already satisfied: charset-normalizer<4,>=2 in ./.venv/lib/python3.12/site-packages (from requests<3,>=2.27->streamlit>=1.33.0->streamlit-navigation-bar) (3.4.1)\n",
      "Requirement already satisfied: idna<4,>=2.5 in ./.venv/lib/python3.12/site-packages (from requests<3,>=2.27->streamlit>=1.33.0->streamlit-navigation-bar) (3.10)\n",
      "Requirement already satisfied: urllib3<3,>=1.21.1 in ./.venv/lib/python3.12/site-packages (from requests<3,>=2.27->streamlit>=1.33.0->streamlit-navigation-bar) (2.3.0)\n",
      "Requirement already satisfied: certifi>=2017.4.17 in ./.venv/lib/python3.12/site-packages (from requests<3,>=2.27->streamlit>=1.33.0->streamlit-navigation-bar) (2025.1.31)\n",
      "Requirement already satisfied: smmap<6,>=3.0.1 in ./.venv/lib/python3.12/site-packages (from gitdb<5,>=4.0.1->gitpython!=3.1.19,<4,>=3.0.7->streamlit>=1.33.0->streamlit-navigation-bar) (5.0.2)\n",
      "Requirement already satisfied: MarkupSafe>=2.0 in ./.venv/lib/python3.12/site-packages (from jinja2->altair<6,>=4.0->streamlit>=1.33.0->streamlit-navigation-bar) (3.0.2)\n",
      "Requirement already satisfied: attrs>=22.2.0 in ./.venv/lib/python3.12/site-packages (from jsonschema>=3.0->altair<6,>=4.0->streamlit>=1.33.0->streamlit-navigation-bar) (25.1.0)\n",
      "Requirement already satisfied: jsonschema-specifications>=2023.03.6 in ./.venv/lib/python3.12/site-packages (from jsonschema>=3.0->altair<6,>=4.0->streamlit>=1.33.0->streamlit-navigation-bar) (2024.10.1)\n",
      "Requirement already satisfied: referencing>=0.28.4 in ./.venv/lib/python3.12/site-packages (from jsonschema>=3.0->altair<6,>=4.0->streamlit>=1.33.0->streamlit-navigation-bar) (0.36.2)\n",
      "Requirement already satisfied: rpds-py>=0.7.1 in ./.venv/lib/python3.12/site-packages (from jsonschema>=3.0->altair<6,>=4.0->streamlit>=1.33.0->streamlit-navigation-bar) (0.23.1)\n",
      "Requirement already satisfied: six>=1.5 in ./.venv/lib/python3.12/site-packages (from python-dateutil>=2.8.2->pandas<3,>=1.4.0->streamlit>=1.33.0->streamlit-navigation-bar) (1.17.0)\n",
      "\n",
      "\u001b[1m[\u001b[0m\u001b[34;49mnotice\u001b[0m\u001b[1;39;49m]\u001b[0m\u001b[39;49m A new release of pip is available: \u001b[0m\u001b[31;49m24.0\u001b[0m\u001b[39;49m -> \u001b[0m\u001b[32;49m25.0.1\u001b[0m\n",
      "\u001b[1m[\u001b[0m\u001b[34;49mnotice\u001b[0m\u001b[1;39;49m]\u001b[0m\u001b[39;49m To update, run: \u001b[0m\u001b[32;49mpip install --upgrade pip\u001b[0m\n",
      "Note: you may need to restart the kernel to use updated packages.\n"
     ]
    }
   ],
   "source": [
    "pip install streamlit-navigation-bar"
   ]
  },
  {
   "cell_type": "code",
   "execution_count": null,
   "metadata": {},
   "outputs": [
    {
     "data": {
      "text/plain": [
       "['Environment',\n",
       " 'FileSystemLoader',\n",
       " 'MatchNavbar',\n",
       " 'StreamlitPage',\n",
       " '_RELEASE',\n",
       " '__builtins__',\n",
       " '__cached__',\n",
       " '__doc__',\n",
       " '__file__',\n",
       " '__loader__',\n",
       " '__name__',\n",
       " '__package__',\n",
       " '__path__',\n",
       " '__spec__',\n",
       " '_adjust',\n",
       " '_encode_svg',\n",
       " '_prepare_icons',\n",
       " '_prepare_options',\n",
       " '_prepare_urls',\n",
       " '_st_navbar',\n",
       " '_version',\n",
       " 'adjust_css',\n",
       " 'base64',\n",
       " 'build_dir',\n",
       " 'check_adjust',\n",
       " 'check_key',\n",
       " 'check_logo_page',\n",
       " 'check_logo_path',\n",
       " 'check_options',\n",
       " 'check_pages',\n",
       " 'check_selected',\n",
       " 'check_styles',\n",
       " 'check_urls',\n",
       " 'components',\n",
       " 'errors',\n",
       " 'get_path',\n",
       " 'load_env',\n",
       " 'match_navbar',\n",
       " 'os',\n",
       " 'parent_dir',\n",
       " 'position_body',\n",
       " 'print_version',\n",
       " 'sentinel',\n",
       " 'st',\n",
       " 'st_navbar']"
      ]
     },
     "execution_count": 40,
     "metadata": {},
     "output_type": "execute_result"
    }
   ],
   "source": [
    "page_dico_ai = {\n",
    "        \"Home Page\": {\"Home Page\": \"main.py\"},\n",
    "        \"Agentic AI\": {\n",
    "            \"Agentic AI with LangGraph\": \"pages/agentic_langgraph.py\",\n",
    "            \"Agentic AI with SmolAgents\": \"pages/agenticsmolagents.py\", \n",
    "            \"Agentic AI with LlaamaIndex\": \"pages/agenticllamaindex.py\", \n",
    "        },\n",
    "        \"Clustering\": {\n",
    "            \"K-Means\": \"pages/kmeans.py\",\n",
    "            \"Hierarchical Clustering\": \"pages/hierarch_clustering.py\",\n",
    "            \"DBSCAN\": \"pages/dbscan.py\",\n",
    "        },\n",
    "        \"Dimensionality Reduction\": {\n",
    "            \"Principal Component Analysis (PCA)\": \"pages/pca.py\",\n",
    "            \"Latent Discriminant Analysis (LDA)\": \"pages/lda.py\",\n",
    "            \"T-Distributed Stochastic Neighbor Embedding (t-SNE)\": \"pages/tsne.py\",\n",
    "        }\n",
    "    } "
   ]
  },
  {
   "cell_type": "code",
   "execution_count": null,
   "metadata": {},
   "outputs": [
    {
     "ename": "TypeError",
     "evalue": "st_navbar() missing 1 required positional argument: 'pages'",
     "output_type": "error",
     "traceback": [
      "\u001b[31m---------------------------------------------------------------------------\u001b[39m",
      "\u001b[31mTypeError\u001b[39m                                 Traceback (most recent call last)",
      "\u001b[36mCell\u001b[39m\u001b[36m \u001b[39m\u001b[32mIn[42]\u001b[39m\u001b[32m, line 1\u001b[39m\n\u001b[32m----> \u001b[39m\u001b[32m1\u001b[39m \u001b[43mnav\u001b[49m\u001b[43m.\u001b[49m\u001b[43mst_navbar\u001b[49m\u001b[43m(\u001b[49m\u001b[43m)\u001b[49m\n",
      "\u001b[31mTypeError\u001b[39m: st_navbar() missing 1 required positional argument: 'pages'"
     ]
    }
   ],
   "source": []
  },
  {
   "cell_type": "code",
   "execution_count": 4,
   "metadata": {},
   "outputs": [],
   "source": [
    "page_dico_ai = {\n",
    "    \"Home Page\": {\"Home Page\": \"main.py\"},\n",
    "    \"Agentic AI\": {\n",
    "        \"Agentic AI with LangGraph\": \"pages/agentic_langgraph.py\",\n",
    "        \"Agentic AI with SmolAgents\": \"pages/agenticsmolagents.py\", \n",
    "        \"Agentic AI with LlaamaIndex\": \"pages/agenticllamaindex.py\", \n",
    "    },\n",
    "    \"Clustering\": {\n",
    "        \"K-Means\": \"pages/kmeans.py\",\n",
    "        \"Hierarchical Clustering\": \"pages/hierarch_clustering.py\",\n",
    "        \"DBSCAN\": \"pages/dbscan.py\",\n",
    "    },\n",
    "    \"Dimensionality Reduction\": {\n",
    "        \"Principal Component Analysis (PCA)\": \"pages/pca.py\",\n",
    "        \"Latent Discriminant Analysis (LDA)\": \"pages/lda.py\",\n",
    "        \"T-Distributed Stochastic Neighbor Embedding (t-SNE)\": \"pages/tsne.py\",\n",
    "    }\n",
    "} "
   ]
  },
  {
   "cell_type": "code",
   "execution_count": 5,
   "metadata": {},
   "outputs": [
    {
     "data": {
      "text/plain": [
       "({'Home Page': 'main.py'}, 'Home Page')"
      ]
     },
     "execution_count": 5,
     "metadata": {},
     "output_type": "execute_result"
    }
   ],
   "source": [
    "list(page_dico_ai.values())[0], list(page_dico_ai.keys())[0]"
   ]
  },
  {
   "cell_type": "code",
   "execution_count": null,
   "metadata": {},
   "outputs": [
    {
     "ename": "TypeError",
     "evalue": "'dict_values' object is not subscriptable",
     "output_type": "error",
     "traceback": [
      "\u001b[31m---------------------------------------------------------------------------\u001b[39m",
      "\u001b[31mTypeError\u001b[39m                                 Traceback (most recent call last)",
      "\u001b[36mCell\u001b[39m\u001b[36m \u001b[39m\u001b[32mIn[13]\u001b[39m\u001b[32m, line 1\u001b[39m\n\u001b[32m----> \u001b[39m\u001b[32m1\u001b[39m \u001b[38;5;28;43mlist\u001b[39;49m\u001b[43m(\u001b[49m\u001b[43mpage_dico_ai\u001b[49m\u001b[43m.\u001b[49m\u001b[43mvalues\u001b[49m\u001b[43m(\u001b[49m\u001b[43m)\u001b[49m\u001b[43m)\u001b[49m\u001b[43m[\u001b[49m\u001b[32;43m0\u001b[39;49m\u001b[43m]\u001b[49m\u001b[43m.\u001b[49m\u001b[43mvalues\u001b[49m\u001b[43m(\u001b[49m\u001b[43m)\u001b[49m\u001b[43m[\u001b[49m\u001b[32;43m0\u001b[39;49m\u001b[43m]\u001b[49m\n",
      "\u001b[31mTypeError\u001b[39m: 'dict_values' object is not subscriptable"
     ]
    }
   ],
   "source": [
    "list(page_dico_ai.values())[0].values()"
   ]
  },
  {
   "cell_type": "code",
   "execution_count": null,
   "metadata": {},
   "outputs": [],
   "source": []
  }
 ],
 "metadata": {
  "kernelspec": {
   "display_name": ".venv",
   "language": "python",
   "name": "python3"
  },
  "language_info": {
   "codemirror_mode": {
    "name": "ipython",
    "version": 3
   },
   "file_extension": ".py",
   "mimetype": "text/x-python",
   "name": "python",
   "nbconvert_exporter": "python",
   "pygments_lexer": "ipython3",
   "version": "3.12.4"
  }
 },
 "nbformat": 4,
 "nbformat_minor": 2
}
